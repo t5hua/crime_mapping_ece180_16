{
 "cells": [
  {
   "cell_type": "code",
   "execution_count": 29,
   "metadata": {},
   "outputs": [],
   "source": [
    "# read data\n",
    "import numpy as np\n",
    "import pandas as pd\n",
    "from collections import defaultdict\n",
    "import re\n",
    "import string \n",
    "\n",
    "text_file = open(\"crime.txt\", \"r\")\n",
    "lines = [i for i in text_file.readlines()]\n",
    "data = list(lines)[1:]\n",
    "\n",
    "                  "
   ]
  },
  {
   "cell_type": "code",
   "execution_count": 30,
   "metadata": {},
   "outputs": [],
   "source": [
    "# hashtable like '92118': 8\n",
    "# zipcode_crime_time is a dict : {'92092':'[list of times]'}\n",
    "zipcode_CrimeNum = defaultdict(int)\n",
    "zipcode_CrimeTime = defaultdict(list)\n",
    "\n",
    "zipp = []\n",
    "for d in data:\n",
    "#     zipcode_numofcrime\n",
    "    ele = d.split(\"\\\",\\\"\")\n",
    "    zipcode = ele[2]\n",
    "    if (len(zipcode) != 5) or (zipcode[0] != '9'):\n",
    "        continue\n",
    "    zipcode_CrimeNum[zipcode] += 1\n",
    "    if zipcode not in zipp:\n",
    "        zipp.append(zipcode)\n",
    "    \n",
    "#     zipcode_CrimeTime\n",
    "    crime_time = \"\"\n",
    "    res = d.split(\",\")\n",
    "    for crime_str in res:\n",
    "        match = re.search('\\d{1,2}\\/\\d{1,2}\\/\\d{4} \\d{1,2}\\:\\d{1,2}\\:\\d{1,2}', crime_str)\n",
    "        if(match):\n",
    "            crime_time = crime_str\n",
    "    zipcode_CrimeTime[zipcode] += [crime_time] \n"
   ]
  },
  {
   "cell_type": "code",
   "execution_count": 31,
   "metadata": {},
   "outputs": [],
   "source": [
    "for i in zipp:\n",
    "    if(zipcode_CrimeNum[i] > 10):\n",
    "        zipcode_CrimeNum[i] = int(zipcode_CrimeNum[i]/10)\n",
    "    "
   ]
  },
  {
   "cell_type": "code",
   "execution_count": 35,
   "metadata": {
    "scrolled": true
   },
   "outputs": [],
   "source": [
    "from uszipcode import ZipcodeSearchEngine\n",
    "search = ZipcodeSearchEngine()\n",
    "xys = []\n",
    "for i in zipp:\n",
    "    zipcode123 = search.by_zipcode(i)\n",
    "    if not zipcode123['Latitude']:\n",
    "        continue\n",
    "    mem = (zipcode123['Latitude'], zipcode123['Longitude'])\n",
    "    for k in range(zipcode_CrimeNum[i]):\n",
    "        xys.append(mem)\n"
   ]
  },
  {
   "cell_type": "code",
   "execution_count": 36,
   "metadata": {},
   "outputs": [],
   "source": [
    "for tuple_pair in xys:\n",
    "    assert tuple_pair and isinstance(tuple_pair, tuple)\n",
    "    assert tuple_pair[0]\n",
    "    assert isinstance(tuple_pair[0], float)\n",
    "    assert tuple_pair[1]\n",
    "    assert isinstance(tuple_pair[1], float)"
   ]
  },
  {
   "cell_type": "code",
   "execution_count": 37,
   "metadata": {},
   "outputs": [],
   "source": [
    "from gmplot import gmplot\n",
    "\n",
    "# Place map\n",
    "gmap = gmplot.GoogleMapPlotter(32.7269669, -117.1647094, 13)\n",
    "\n",
    "# Scatter points\n",
    "top_attraction_lats, top_attraction_lons= zip(*xys)\n",
    "#gmap.scatter(top_attraction_lats, top_attraction_lons, '#3B0B39', size=40, marker=False)\n",
    "\n",
    "gmap.heatmap(top_attraction_lats, top_attraction_lons, threshold=20, radius=60, gradient=None, opacity=0.3, maxIntensity=200, dissipating=True)\n",
    "# Draw\n",
    "gmap.draw(\"my_map.html\")\n"
   ]
  },
  {
   "cell_type": "code",
   "execution_count": null,
   "metadata": {},
   "outputs": [],
   "source": []
  }
 ],
 "metadata": {
  "kernelspec": {
   "display_name": "Python 2",
   "language": "python",
   "name": "python2"
  },
  "language_info": {
   "codemirror_mode": {
    "name": "ipython",
    "version": 2
   },
   "file_extension": ".py",
   "mimetype": "text/x-python",
   "name": "python",
   "nbconvert_exporter": "python",
   "pygments_lexer": "ipython2",
   "version": "2.7.14"
  }
 },
 "nbformat": 4,
 "nbformat_minor": 2
}
