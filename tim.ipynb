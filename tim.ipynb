{
 "cells": [
  {
   "cell_type": "code",
   "execution_count": 1,
   "metadata": {
    "collapsed": true
   },
   "outputs": [],
   "source": [
    "# imports\n",
    "\n",
    "import numpy as np\n",
    "import pandas as pd\n",
    "import matplotlib.pyplot as plt\n",
    "from matplotlib import rcParams\n",
    "import seaborn as sns\n",
    "import re\n",
    "\n",
    "pd.set_option('max_columns', None)\n",
    "%matplotlib inline\n",
    "%config InlineBackend.figure_format = 'retina'\n",
    "rcParams['figure.figsize'] = 12, 10"
   ]
  },
  {
   "cell_type": "code",
   "execution_count": 125,
   "metadata": {},
   "outputs": [
    {
     "data": {
      "text/html": [
       "<div>\n",
       "<style scoped>\n",
       "    .dataframe tbody tr th:only-of-type {\n",
       "        vertical-align: middle;\n",
       "    }\n",
       "\n",
       "    .dataframe tbody tr th {\n",
       "        vertical-align: top;\n",
       "    }\n",
       "\n",
       "    .dataframe thead th {\n",
       "        text-align: right;\n",
       "    }\n",
       "</style>\n",
       "<table border=\"1\" class=\"dataframe\">\n",
       "  <thead>\n",
       "    <tr style=\"text-align: right;\">\n",
       "      <th></th>\n",
       "      <th>agency</th>\n",
       "      <th>crime</th>\n",
       "      <th>time</th>\n",
       "      <th>addr</th>\n",
       "      <th>zip</th>\n",
       "      <th>community</th>\n",
       "    </tr>\n",
       "  </thead>\n",
       "  <tbody>\n",
       "    <tr>\n",
       "      <th>0</th>\n",
       "      <td>SAN DIEGO</td>\n",
       "      <td>GRAND THEFT FROM PERSON</td>\n",
       "      <td>1/3/2018 16:30:00</td>\n",
       "      <td>7800  BLOCK STALMER STREET</td>\n",
       "      <td>92111.0</td>\n",
       "      <td>SAN DIEGO</td>\n",
       "    </tr>\n",
       "    <tr>\n",
       "      <th>1</th>\n",
       "      <td>HARBOR POLICE</td>\n",
       "      <td>SELL LIQUOR TO MINOR (M)</td>\n",
       "      <td>9/23/2017 18:28:00</td>\n",
       "      <td>3200  BLOCK NORTH HARBOR DRIVE</td>\n",
       "      <td>92101.0</td>\n",
       "      <td>SAN DIEGO</td>\n",
       "    </tr>\n",
       "    <tr>\n",
       "      <th>2</th>\n",
       "      <td>HARBOR POLICE</td>\n",
       "      <td>DRUNK IN PUBLIC: ALCOHOL, DRUGS, COMBO OR TOLU...</td>\n",
       "      <td>10/6/2017 8:48:00</td>\n",
       "      <td>600  BLOCK CONVENTION WAY</td>\n",
       "      <td>92101.0</td>\n",
       "      <td>SAN DIEGO</td>\n",
       "    </tr>\n",
       "    <tr>\n",
       "      <th>3</th>\n",
       "      <td>HARBOR POLICE</td>\n",
       "      <td>DRUNK IN PUBLIC: ALCOHOL, DRUGS, COMBO OR TOLU...</td>\n",
       "      <td>10/11/2017 19:45:00</td>\n",
       "      <td>3600  BLOCK NORTH HARBOR DRIVE</td>\n",
       "      <td>92101.0</td>\n",
       "      <td>SAN DIEGO</td>\n",
       "    </tr>\n",
       "    <tr>\n",
       "      <th>4</th>\n",
       "      <td>HARBOR POLICE</td>\n",
       "      <td>POSS NARCOTIC CONTROLLED SUBS (M)</td>\n",
       "      <td>10/21/2017 23:36:00</td>\n",
       "      <td>100 W  BLOCK HARBOR DRIVE</td>\n",
       "      <td>92101.0</td>\n",
       "      <td>SAN DIEGO</td>\n",
       "    </tr>\n",
       "  </tbody>\n",
       "</table>\n",
       "</div>"
      ],
      "text/plain": [
       "<div>\n",
       "<style scoped>\n",
       "    .dataframe tbody tr th:only-of-type {\n",
       "        vertical-align: middle;\n",
       "    }\n",
       "\n",
       "    .dataframe tbody tr th {\n",
       "        vertical-align: top;\n",
       "    }\n",
       "\n",
       "    .dataframe thead th {\n",
       "        text-align: right;\n",
       "    }\n",
       "</style>\n",
       "<table border=\"1\" class=\"dataframe\">\n",
       "  <thead>\n",
       "    <tr style=\"text-align: right;\">\n",
       "      <th></th>\n",
       "      <th>agency</th>\n",
       "      <th>crime</th>\n",
       "      <th>time</th>\n",
       "      <th>addr</th>\n",
       "      <th>zip</th>\n",
       "      <th>community</th>\n",
       "    </tr>\n",
       "  </thead>\n",
       "  <tbody>\n",
       "    <tr>\n",
       "      <th>0</th>\n",
       "      <td>SAN DIEGO</td>\n",
       "      <td>GRAND THEFT FROM PERSON</td>\n",
       "      <td>1/3/2018 16:30:00</td>\n",
       "      <td>7800  BLOCK STALMER STREET</td>\n",
       "      <td>92111.0</td>\n",
       "      <td>SAN DIEGO</td>\n",
       "    </tr>\n",
       "    <tr>\n",
       "      <th>1</th>\n",
       "      <td>HARBOR POLICE</td>\n",
       "      <td>SELL LIQUOR TO MINOR (M)</td>\n",
       "      <td>9/23/2017 18:28:00</td>\n",
       "      <td>3200  BLOCK NORTH HARBOR DRIVE</td>\n",
       "      <td>92101.0</td>\n",
       "      <td>SAN DIEGO</td>\n",
       "    </tr>\n",
       "    <tr>\n",
       "      <th>2</th>\n",
       "      <td>HARBOR POLICE</td>\n",
       "      <td>DRUNK IN PUBLIC: ALCOHOL, DRUGS, COMBO OR TOLU...</td>\n",
       "      <td>10/6/2017 8:48:00</td>\n",
       "      <td>600  BLOCK CONVENTION WAY</td>\n",
       "      <td>92101.0</td>\n",
       "      <td>SAN DIEGO</td>\n",
       "    </tr>\n",
       "    <tr>\n",
       "      <th>3</th>\n",
       "      <td>HARBOR POLICE</td>\n",
       "      <td>DRUNK IN PUBLIC: ALCOHOL, DRUGS, COMBO OR TOLU...</td>\n",
       "      <td>10/11/2017 19:45:00</td>\n",
       "      <td>3600  BLOCK NORTH HARBOR DRIVE</td>\n",
       "      <td>92101.0</td>\n",
       "      <td>SAN DIEGO</td>\n",
       "    </tr>\n",
       "    <tr>\n",
       "      <th>4</th>\n",
       "      <td>HARBOR POLICE</td>\n",
       "      <td>POSS NARCOTIC CONTROLLED SUBS (M)</td>\n",
       "      <td>10/21/2017 23:36:00</td>\n",
       "      <td>100 W  BLOCK HARBOR DRIVE</td>\n",
       "      <td>92101.0</td>\n",
       "      <td>SAN DIEGO</td>\n",
       "    </tr>\n",
       "  </tbody>\n",
       "</table>\n",
       "</div>"
      ]
     },
     "execution_count": 125,
     "metadata": {},
     "output_type": "execute_result"
    }
   ],
   "source": [
    "df = pd.read_csv('crime.txt')\n",
    "df.columns = ['agency', 'crime', 'time', 'addr', 'zip', 'community']\n",
    "df['crime'] = df['crime'].astype(str)\n",
    "df.head()"
   ]
  },
  {
   "cell_type": "code",
   "execution_count": 126,
   "metadata": {},
   "outputs": [
    {
     "data": {
      "text/plain": [
       "['GRAND THEFT FROM PERSON',\n \"TAKE VEHICLE W/O OWNER'S CONSENT/VEHICLE THEFT (F)\",\n 'PETTY THEFT(Shoplift) (M)',\n 'PETTY THEFT',\n 'GRAND THEFT/UNSPECIFIED',\n \"TAKE VEHICLE W/O OWNER'S CONSENT/VEHICLE THEFT\",\n 'PETTY THEFT(from Coin Oper Machine) (M)',\n 'PETTY THEFT(from Building) (M)',\n 'PETTY THEFT(All Other Larceny) (M)',\n 'GRAND THEFT (Theft From Mot Veh) (F)',\n 'GRAND THEFT:MONEY/LABOR/PROPERTY (F)',\n 'PETTY THEFT / THEFT OF PERSONAL PROPERTY / SHOPLIFT',\n 'THEFT BY USE OF ACCESS CARD INFORMATION [OVER $950] (F)',\n 'PETTY THEFT(from Veh) (M)',\n 'THEFT BY USE OF CREDIT CARD (UNDER $950)',\n 'GRAND THEFT (Theft From Building) (F)',\n 'PETTY THEFT(Mot Veh Parts) (M)',\n 'GRAND THEFT (Theft of Mot Veh Parts/Acc) (F)',\n 'THEFT BY USE OF CREDIT CARD (OVER $950)',\n 'GRAND THEFT:MONEY/LABOR/PROPERTY OVER $950',\n 'GRAND THEFT (Mot Veh Theft) (F)',\n 'ATTEMPTED PETTY THEFT',\n 'PETTY THEFT(Purse Snatch) (M)',\n 'THEFT BY USE OF ACCESS CARD INFORMATION [$950 OR LESS] (M)',\n 'THEFT (M)',\n 'GRAND THEFT (Shoplifting) (F)',\n 'GRAND THEFT PROPERTY',\n 'PETTY THEFT FROM LIBRARY OR MERCHANT (M)',\n 'GRAND THEFT / THEFT OF PERSONAL PROPERTY',\n 'COMMIT MAIL THEFT (M)',\n 'GRAND THEFT:STOLEN COPPER MATERIALS > $950 (F)',\n 'GRAND THEFT:FIREARM/ANIMAL (Theft From Mot Veh) (F)',\n 'GRAND THEFT FROM PERS (Purse-Snatching) (F)',\n 'GRAND THEFT BY SERVANT/ETC [$950 OR MORE] (F)',\n 'GRAND THEFT,GOLD DUST ETC.',\n 'GRAND THEFT:MONEY/LABOR/PROPERTY OVER $400',\n 'PETTY THEFT(Pocket Picking) (M)',\n 'GRAND THEFT BY EMPLOYEE/SERVANT/ETC ($950 OR MORE)',\n 'GRAND THEFT FROM PERS (Pocket-Picking) (F)',\n 'GRAND THEFT:AUTO (F)',\n 'THEFT',\n 'IDENTITY THEFT',\n 'GRAND THEFT: VEHICLES, VESSELS/ETC (F)',\n 'THEFT OF UTILITY SERVICES (M)',\n 'GRAND THEFT:FIREARM/ANIMAL (Theft From Building) (F)',\n 'THEFT OF UTILITY SERVICES',\n 'GRAND THEFT: CARGO EXCEEDS $950',\n 'PETTY THEFT:DOG [$950 OR LESS] (M)',\n 'GRAND THEFT:STOLEN COPPER MATERIALS <= $950 (M)',\n 'ATTEMPTED GRAND THEFT',\n 'PETTY THEFT- RETAIL MERCHANDISE',\n 'THEFT OF CREDIT CARD/CARD NOT OWN',\n 'THEFT BY FORGED/INVALID CREDIT CARD (OVER $950)',\n 'GRAND THEFT - ANIMAL (F)',\n 'GRAND THEFT FIREARM, ANIMAL, ETC.',\n 'VEH THEFT:SPECIFIC PRS (F)',\n 'PETTY THEFT/CONVERT REAL PROPERTY',\n 'GRAND THEFT AUTO (F)',\n 'THEFT/NON-RETURN OF RENTAL PROPERTY',\n 'GRAND THEFT:DOG [OVER $950] (F)',\n 'GRAND THEFT:FIREARM/ANIMAL (All Other Larceny) (F)',\n 'GRAND THEFT:FRUIT/FOWL/ETC [OVER $950] (F)',\n 'PETTY THEFT W/PRIOR JAIL TERM FOR SPECIFIC OFFENSES',\n 'PETTY THEFT (PUNISHMENT)',\n 'THEFT BY MISREPRESENTATION AS CREDIT CARD HOLDER (UNDER $950)',\n 'GRAND THEFT (Theft From Coin Oper Machine or Dev) (F)',\n 'THEFT NOT EXCEEDING $950 (M)',\n 'PETTY THEFT,DOG VALUE $950 OR LESS',\n 'THEFT OF BINDING CHAINS',\n 'THEFT OF BINDER CHAINS',\n 'GRAND THEFT:CONVERT REAL PROPERTY [Over $950] (F)',\n 'GRAND THEFT BY SERVANT/ETC [$950 OR LESS] (M)',\n 'GRAND THEFT OF ACCESS CARDS (4 OR MORE) (F)']"
      ]
     },
     "execution_count": 126,
     "metadata": {},
     "output_type": "execute_result"
    }
   ],
   "source": [
    "[x for x in df.crime.unique() if 'theft' in str(x).lower()]"
   ]
  },
  {
   "cell_type": "code",
   "execution_count": 148,
   "metadata": {},
   "outputs": [],
   "source": [
    "from datetime import datetime\n",
    "\n",
    "\n",
    "def time_fix(row):\n",
    "    t = str(row['time'])\n",
    "    return datetime.strptime(t, \"%m/%d/%Y %H:%M:%S\")\n",
    "\n",
    "\n",
    "df['time_fix'] = df.apply(time_fix, axis=1)\n",
    "\n",
    "\n",
    "def doy(row):\n",
    "    d = row['time_fix']\n",
    "    return d.timetuple().tm_yday\n",
    "\n",
    "\n",
    "df['doy'] = df.apply(doy, axis=1)"
   ]
  },
  {
   "cell_type": "code",
   "execution_count": 147,
   "metadata": {},
   "outputs": [
    {
     "data": {
      "text/plain": [
       "34"
      ]
     },
     "execution_count": 147,
     "metadata": {},
     "output_type": "execute_result"
    }
   ],
   "source": [
    "dto = datetime.strptime('2/3/2018 16:30:00', \"%m/%d/%Y %H:%M:%S\")\n",
    "dto.weekday()\n",
    "# datetime.now().timetuple().tm_yday\n",
    "dto.timetuple().tm_yday"
   ]
  },
  {
   "cell_type": "code",
   "execution_count": 149,
   "metadata": {},
   "outputs": [],
   "source": [
    "def type_find(row):\n",
    "    t = str(row['crime']).lower()\n",
    "    # print(t)\n",
    "    if 'firearm' in t or 'ammunition' in t or 'shoot' in t:\n",
    "        return 'gun'\n",
    "    if 'controlled' in t or 'contr' in t or 'drug' in t or 'paraphernalia' in t or 'cntl' in t:\n",
    "        return 'drug'\n",
    "    if 'theft' in t or 'burglary' in t or 'robbery' in t or 'obtain money' in t:\n",
    "        return 'theft'\n",
    "    if 'drunk' in t or 'liquor' in t or 'open container' in t or 'alcohol' in t or 'alc' in t:\n",
    "        return 'alcohol'\n",
    "    if 'marijuana' in t or 'cannabis' in t or 'weed' in t:\n",
    "        return 'weed'\n",
    "    if 'weapon' in t or 'metal knuckles' in t or 'leaded cane' in t or 'shuriken' in t or 'knife' in t or 'dagger' in t:\n",
    "        return 'weapons'\n",
    "    if 'sex' in t or 'rape' in t or 'intimate' in t or 'indecent exposure' in t or 'obscene' in t or 'prostitution' in t:\n",
    "        return 'sexual'\n",
    "    if 'assault' in t or 'battery' in t:\n",
    "        return 'assault'\n",
    "    if 'resist' in t:\n",
    "        return 'resisting'\n",
    "    if 'shoplifting' in t:\n",
    "        return 'shoplifting'\n",
    "    if 'fraud' in t or 'defraud' in t or 'personate' in t:\n",
    "        return 'fraud'\n",
    "    if 'vandalism' in t:\n",
    "        return 'vandalism'\n",
    "    if 'elder' in t:\n",
    "        return 'elder abuse'\n",
    "    if 'get credit' in t or 'personal identific' in t:\n",
    "        return 'identity theft'\n",
    "    if 'terrorize' in t or 'terrorist' in t:\n",
    "        return 'terrorism'\n",
    "    if 'animal' in t:\n",
    "        return 'animal'\n",
    "    if 'child' in t or 'minor' in t:\n",
    "        return 'child'\n",
    "    if 'tamper' in t or 'carjacking' in t:\n",
    "        return 'vehicle tampering'\n",
    "    if 'arson' in t:\n",
    "        return 'arson'\n",
    "    else:\n",
    "        return 'none'\n",
    "\n",
    "\n",
    "df['type'] = df.apply(type_find, axis=1)"
   ]
  },
  {
   "cell_type": "code",
   "execution_count": 143,
   "metadata": {
    "collapsed": false
   },
   "outputs": [
    {
     "data": {
      "text/plain": [
       "907"
      ]
     },
     "execution_count": 143,
     "metadata": {},
     "output_type": "execute_result"
    }
   ],
   "source": [
    "# df[df['type'] == 'none'].reset_index()\n",
    "len(df[df['type'] == 'none'].reset_index())\n",
    "# df.head(30)\n",
    "# pd.value_counts(df[df['type'] == 'none'].reset_index()['crime'])\n",
    "# pd.value_counts(df['crime'])"
   ]
  },
  {
   "cell_type": "code",
   "execution_count": 150,
   "metadata": {},
   "outputs": [
    {
     "data": {
      "text/html": [
       "<div>\n",
       "<style scoped>\n",
       "    .dataframe tbody tr th:only-of-type {\n",
       "        vertical-align: middle;\n",
       "    }\n",
       "\n",
       "    .dataframe tbody tr th {\n",
       "        vertical-align: top;\n",
       "    }\n",
       "\n",
       "    .dataframe thead th {\n",
       "        text-align: right;\n",
       "    }\n",
       "</style>\n",
       "<table border=\"1\" class=\"dataframe\">\n",
       "  <thead>\n",
       "    <tr style=\"text-align: right;\">\n",
       "      <th></th>\n",
       "      <th>agency</th>\n",
       "      <th>crime</th>\n",
       "      <th>time</th>\n",
       "      <th>addr</th>\n",
       "      <th>zip</th>\n",
       "      <th>community</th>\n",
       "      <th>type</th>\n",
       "      <th>time_fix</th>\n",
       "      <th>doy</th>\n",
       "    </tr>\n",
       "  </thead>\n",
       "  <tbody>\n",
       "    <tr>\n",
       "      <th>0</th>\n",
       "      <td>SAN DIEGO</td>\n",
       "      <td>GRAND THEFT FROM PERSON</td>\n",
       "      <td>1/3/2018 16:30:00</td>\n",
       "      <td>7800  BLOCK STALMER STREET</td>\n",
       "      <td>92111.0</td>\n",
       "      <td>SAN DIEGO</td>\n",
       "      <td>theft</td>\n",
       "      <td>2018-01-03 16:30:00</td>\n",
       "      <td>3</td>\n",
       "    </tr>\n",
       "    <tr>\n",
       "      <th>1</th>\n",
       "      <td>HARBOR POLICE</td>\n",
       "      <td>SELL LIQUOR TO MINOR (M)</td>\n",
       "      <td>9/23/2017 18:28:00</td>\n",
       "      <td>3200  BLOCK NORTH HARBOR DRIVE</td>\n",
       "      <td>92101.0</td>\n",
       "      <td>SAN DIEGO</td>\n",
       "      <td>alcohol</td>\n",
       "      <td>2017-09-23 18:28:00</td>\n",
       "      <td>266</td>\n",
       "    </tr>\n",
       "    <tr>\n",
       "      <th>2</th>\n",
       "      <td>HARBOR POLICE</td>\n",
       "      <td>DRUNK IN PUBLIC: ALCOHOL, DRUGS, COMBO OR TOLU...</td>\n",
       "      <td>10/6/2017 8:48:00</td>\n",
       "      <td>600  BLOCK CONVENTION WAY</td>\n",
       "      <td>92101.0</td>\n",
       "      <td>SAN DIEGO</td>\n",
       "      <td>drug</td>\n",
       "      <td>2017-10-06 08:48:00</td>\n",
       "      <td>279</td>\n",
       "    </tr>\n",
       "    <tr>\n",
       "      <th>3</th>\n",
       "      <td>HARBOR POLICE</td>\n",
       "      <td>DRUNK IN PUBLIC: ALCOHOL, DRUGS, COMBO OR TOLU...</td>\n",
       "      <td>10/11/2017 19:45:00</td>\n",
       "      <td>3600  BLOCK NORTH HARBOR DRIVE</td>\n",
       "      <td>92101.0</td>\n",
       "      <td>SAN DIEGO</td>\n",
       "      <td>drug</td>\n",
       "      <td>2017-10-11 19:45:00</td>\n",
       "      <td>284</td>\n",
       "    </tr>\n",
       "    <tr>\n",
       "      <th>4</th>\n",
       "      <td>HARBOR POLICE</td>\n",
       "      <td>POSS NARCOTIC CONTROLLED SUBS (M)</td>\n",
       "      <td>10/21/2017 23:36:00</td>\n",
       "      <td>100 W  BLOCK HARBOR DRIVE</td>\n",
       "      <td>92101.0</td>\n",
       "      <td>SAN DIEGO</td>\n",
       "      <td>drug</td>\n",
       "      <td>2017-10-21 23:36:00</td>\n",
       "      <td>294</td>\n",
       "    </tr>\n",
       "  </tbody>\n",
       "</table>\n",
       "</div>"
      ],
      "text/plain": [
       "<div>\n",
       "<style scoped>\n",
       "    .dataframe tbody tr th:only-of-type {\n",
       "        vertical-align: middle;\n",
       "    }\n",
       "\n",
       "    .dataframe tbody tr th {\n",
       "        vertical-align: top;\n",
       "    }\n",
       "\n",
       "    .dataframe thead th {\n",
       "        text-align: right;\n",
       "    }\n",
       "</style>\n",
       "<table border=\"1\" class=\"dataframe\">\n",
       "  <thead>\n",
       "    <tr style=\"text-align: right;\">\n",
       "      <th></th>\n",
       "      <th>agency</th>\n",
       "      <th>crime</th>\n",
       "      <th>time</th>\n",
       "      <th>addr</th>\n",
       "      <th>zip</th>\n",
       "      <th>community</th>\n",
       "      <th>type</th>\n",
       "      <th>time_fix</th>\n",
       "      <th>doy</th>\n",
       "    </tr>\n",
       "  </thead>\n",
       "  <tbody>\n",
       "    <tr>\n",
       "      <th>0</th>\n",
       "      <td>SAN DIEGO</td>\n",
       "      <td>GRAND THEFT FROM PERSON</td>\n",
       "      <td>1/3/2018 16:30:00</td>\n",
       "      <td>7800  BLOCK STALMER STREET</td>\n",
       "      <td>92111.0</td>\n",
       "      <td>SAN DIEGO</td>\n",
       "      <td>theft</td>\n",
       "      <td>2018-01-03 16:30:00</td>\n",
       "      <td>3</td>\n",
       "    </tr>\n",
       "    <tr>\n",
       "      <th>1</th>\n",
       "      <td>HARBOR POLICE</td>\n",
       "      <td>SELL LIQUOR TO MINOR (M)</td>\n",
       "      <td>9/23/2017 18:28:00</td>\n",
       "      <td>3200  BLOCK NORTH HARBOR DRIVE</td>\n",
       "      <td>92101.0</td>\n",
       "      <td>SAN DIEGO</td>\n",
       "      <td>alcohol</td>\n",
       "      <td>2017-09-23 18:28:00</td>\n",
       "      <td>266</td>\n",
       "    </tr>\n",
       "    <tr>\n",
       "      <th>2</th>\n",
       "      <td>HARBOR POLICE</td>\n",
       "      <td>DRUNK IN PUBLIC: ALCOHOL, DRUGS, COMBO OR TOLU...</td>\n",
       "      <td>10/6/2017 8:48:00</td>\n",
       "      <td>600  BLOCK CONVENTION WAY</td>\n",
       "      <td>92101.0</td>\n",
       "      <td>SAN DIEGO</td>\n",
       "      <td>drug</td>\n",
       "      <td>2017-10-06 08:48:00</td>\n",
       "      <td>279</td>\n",
       "    </tr>\n",
       "    <tr>\n",
       "      <th>3</th>\n",
       "      <td>HARBOR POLICE</td>\n",
       "      <td>DRUNK IN PUBLIC: ALCOHOL, DRUGS, COMBO OR TOLU...</td>\n",
       "      <td>10/11/2017 19:45:00</td>\n",
       "      <td>3600  BLOCK NORTH HARBOR DRIVE</td>\n",
       "      <td>92101.0</td>\n",
       "      <td>SAN DIEGO</td>\n",
       "      <td>drug</td>\n",
       "      <td>2017-10-11 19:45:00</td>\n",
       "      <td>284</td>\n",
       "    </tr>\n",
       "    <tr>\n",
       "      <th>4</th>\n",
       "      <td>HARBOR POLICE</td>\n",
       "      <td>POSS NARCOTIC CONTROLLED SUBS (M)</td>\n",
       "      <td>10/21/2017 23:36:00</td>\n",
       "      <td>100 W  BLOCK HARBOR DRIVE</td>\n",
       "      <td>92101.0</td>\n",
       "      <td>SAN DIEGO</td>\n",
       "      <td>drug</td>\n",
       "      <td>2017-10-21 23:36:00</td>\n",
       "      <td>294</td>\n",
       "    </tr>\n",
       "  </tbody>\n",
       "</table>\n",
       "</div>"
      ]
     },
     "execution_count": 150,
     "metadata": {},
     "output_type": "execute_result"
    }
   ],
   "source": [
    "df.head()"
   ]
  },
  {
   "cell_type": "code",
   "execution_count": 137,
   "metadata": {},
   "outputs": [
    {
     "data": {
      "text/plain": [
       "<matplotlib.axes._subplots.AxesSubplot at 0x7ff3c95f8790>"
      ]
     },
     "execution_count": 137,
     "metadata": {},
     "output_type": "execute_result"
    },
    {
     "data": {
      "image/png": "[encoded data removed]",
      "text/plain": [
       "<Figure size 432x288 with 1 Axes>"
      ]
     },
     "metadata": {},
     "output_type": "display_data"
    }
   ],
   "source": [
    "sns.countplot(y='type', data=df.dropna(), order=df['type'].value_counts().index, color='green')"
   ]
  },
  {
   "cell_type": "code",
   "execution_count": 151,
   "metadata": {},
   "outputs": [
    {
     "data": {
      "text/plain": [
       "<matplotlib.axes._subplots.AxesSubplot at 0x7ff3c99a8e90>"
      ]
     },
     "execution_count": 151,
     "metadata": {},
     "output_type": "execute_result"
    },
    {
     "data": {
      "image/png": "[encoded data removed]",
      "text/plain": [
       "<Figure size 432x288 with 1 Axes>"
      ]
     },
     "metadata": {},
     "output_type": "display_data"
    }
   ],
   "source": [
    "sns.countplot(x='doy', data=df)"
   ]
  },
  {
   "cell_type": "code",
   "execution_count": null,
   "metadata": {},
   "outputs": [],
   "source": []
  }
 ],
 "metadata": {
  "kernelspec": {
   "display_name": "Python 2",
   "language": "python",
   "name": "python2"
  },
  "language_info": {
   "codemirror_mode": {
    "name": "ipython",
    "version": 2
   },
   "file_extension": ".py",
   "mimetype": "text/x-python",
   "name": "python",
   "nbconvert_exporter": "python",
   "pygments_lexer": "ipython2",
   "version": "2.7.6"
  }
 },
 "nbformat": 4,
 "nbformat_minor": 0
}
